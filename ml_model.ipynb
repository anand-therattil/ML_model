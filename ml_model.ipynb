{
  "nbformat": 4,
  "nbformat_minor": 0,
  "metadata": {
    "colab": {
      "provenance": [],
      "authorship_tag": "ABX9TyNybHcCNs8o+5thx/nBsQJ0",
      "include_colab_link": true
    },
    "kernelspec": {
      "name": "python3",
      "display_name": "Python 3"
    },
    "language_info": {
      "name": "python"
    }
  },
  "cells": [
    {
      "cell_type": "markdown",
      "metadata": {
        "id": "view-in-github",
        "colab_type": "text"
      },
      "source": [
        "<a href=\"https://colab.research.google.com/github/anand-therattil/ML_model/blob/main/ml_model.ipynb\" target=\"_parent\"><img src=\"https://colab.research.google.com/assets/colab-badge.svg\" alt=\"Open In Colab\"/></a>"
      ]
    },
    {
      "cell_type": "code",
      "execution_count": null,
      "metadata": {
        "id": "8lFrFp4-jmXE"
      },
      "outputs": [],
      "source": [
        "import pandas as pd \n",
        "import numpy as np\n",
        "from sklearn import svm\n",
        "from xgboost import XGBRegressor\n",
        "from sklearn.linear_model import LogisticRegression\n",
        "from sklearn.linear_model import LinearRegression"
      ]
    },
    {
      "cell_type": "code",
      "source": [
        "class model:\n",
        "  def __init__(self,independent_data,dependent_data):\n",
        "    self.independent_data = independent_data\n",
        "    self.dependent_data = dependent_data\n",
        "    self.model = None\n",
        "    self.predict_value = None\n",
        "\n",
        "  def Linear_Regression(self):\n",
        "    self.model = LinearRegression()\n",
        "    self.model.fit(self.independent_data,self.dependent_data)\n",
        "    return self.model\n",
        "\n",
        "  def XGB_Regressor(self):\n",
        "    self.model = XGBRegressor()\n",
        "    self.model.fit(self.independent_data,self.dependent_data)\n",
        "    return self.model\n",
        "\n",
        "  def Logistic_Regression(self):\n",
        "    self.model = LogisticRegression()\n",
        "    self.model.fit(self.independent_data,self.dependent_data)\n",
        "    return self.model\n",
        "\n",
        "  def SVM(self):\n",
        "    self.model = svm.SVC(kernel='linear')\n",
        "    self.model.fit(self.independent_data,self.dependent_data)\n",
        "    return model \n",
        "\n",
        "  def predict(self,model,test_data):\n",
        "    self.model = model\n",
        "    self.predict_value = self.model.predict(test_data)\n",
        "    return self.predict_value"
      ],
      "metadata": {
        "id": "FBmljt5Zj7O1"
      },
      "execution_count": null,
      "outputs": []
    }
  ]
}